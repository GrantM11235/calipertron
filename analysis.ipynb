{
 "cells": [
  {
   "cell_type": "code",
   "execution_count": null,
   "id": "a7aa3838-a57c-4a45-bbb3-ca19f1604426",
   "metadata": {},
   "outputs": [],
   "source": [
    "from plotnine import *\n",
    "import numpy as np\n",
    "import pandas as pd\n",
    "from calipertron import *"
   ]
  },
  {
   "cell_type": "code",
   "execution_count": null,
   "id": "5c60a81e-03ec-4afb-9324-9b7bb32946f3",
   "metadata": {},
   "outputs": [],
   "source": [
    "d = pd.read_csv(\"foo.csv\", header = None, names = [\"adc\"])\n",
    "d['t'] = range(0, len(d))\n",
    "d"
   ]
  },
  {
   "cell_type": "code",
   "execution_count": null,
   "id": "65314edd",
   "metadata": {},
   "outputs": [],
   "source": [
    "ggplot(d[100000:110000], aes(x = 't', y = 'adc')) + geom_line()"
   ]
  }
 ],
 "metadata": {
  "kernelspec": {
   "display_name": "Python 3 (ipykernel)",
   "language": "python",
   "name": "python3"
  },
  "language_info": {
   "codemirror_mode": {
    "name": "ipython",
    "version": 3
   },
   "file_extension": ".py",
   "mimetype": "text/x-python",
   "name": "python",
   "nbconvert_exporter": "python",
   "pygments_lexer": "ipython3",
   "version": "3.12.3"
  }
 },
 "nbformat": 4,
 "nbformat_minor": 5
}
